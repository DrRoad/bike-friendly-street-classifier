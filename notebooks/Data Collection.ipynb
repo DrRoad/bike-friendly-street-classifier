{
 "cells": [
  {
   "cell_type": "markdown",
   "metadata": {},
   "source": [
    "## Instructions:\n",
    "\n",
    "### TO RUN ALL THE CELLS: CLICK 'Cell' (above) and then 'Run All'. The challenge will be at the bottom!\n",
    "\n",
    "Please run all the cells until the bottom to set up the human labeling application.\n",
    "Do your best to guess whether each image is bike-friendly or not.\n",
    "We'll use this data as a comparison for our neural network's ability to classify these images.\n",
    "\n",
    "Please label 100 images (estimated level of effort: 2 minutes).\n",
    "You may certainly label more if you would like!\n",
    "\n",
    "When you are done, use the final cell to see how you did!\n",
    "\n",
    "Thank you\n",
    "Josh & Evan"
   ]
  },
  {
   "cell_type": "markdown",
   "metadata": {},
   "source": [
    "## Setup"
   ]
  },
  {
   "cell_type": "code",
   "execution_count": 11,
   "metadata": {},
   "outputs": [],
   "source": [
    "import matplotlib.pyplot as plt\n",
    "from ipywidgets import widgets, HBox\n",
    "import random as rdm\n",
    "from IPython.display import clear_output\n",
    "from PIL import Image\n",
    "import os\n",
    "import numpy as np"
   ]
  },
  {
   "cell_type": "markdown",
   "metadata": {},
   "source": [
    "## Initialize variables\n",
    "- _c_: dictionary of the classes being used.\n",
    "- _testdir/datdir_: directories that contain the image data."
   ]
  },
  {
   "cell_type": "code",
   "execution_count": 12,
   "metadata": {},
   "outputs": [],
   "source": [
    "c = {'0': 'Not Bike Friendly',\n",
    "     '1': 'Bike Friendly'\n",
    "    }\n",
    "\n",
    "datadir = '../data/images/'\n",
    "testdir = datadir + 'test/'"
   ]
  },
  {
   "cell_type": "markdown",
   "metadata": {},
   "source": [
    "## Define image loading functions"
   ]
  },
  {
   "cell_type": "code",
   "execution_count": 13,
   "metadata": {},
   "outputs": [],
   "source": [
    "def load_random_image():\n",
    "    # load a random classifier, either bike friendly or not bike friendly\n",
    "    y = rdm.choice(list(c.keys()))\n",
    "    \n",
    "    items = os.listdir(testdir + y)\n",
    "    \n",
    "    imgname = rdm.choice(items)\n",
    "    imgdir = testdir + y + '/' + imgname\n",
    "    \n",
    "    img = Image.open(imgdir)\n",
    "    return img, y"
   ]
  },
  {
   "cell_type": "markdown",
   "metadata": {},
   "source": [
    "## Define button functionalities"
   ]
  },
  {
   "cell_type": "code",
   "execution_count": 14,
   "metadata": {},
   "outputs": [],
   "source": [
    "notBFbutton = widgets.Button(description=\"Not Bike Friendly\")\n",
    "BFbutton = widgets.Button(description=\"Bike Friendly\")\n",
    "\n",
    "def on_button_clicked(b):\n",
    "    global cor_class\n",
    "    global images_guessed\n",
    "    global images_correct\n",
    "    global accuracy\n",
    "    \n",
    "    if b.description == \"Bike Friendly\":\n",
    "        selected.append('1')\n",
    "    else:\n",
    "        selected.append('0')\n",
    "    \n",
    "    target.append(cor_class)\n",
    "    \n",
    "    images_guessed += 1\n",
    "    if selected[-1] == cor_class:\n",
    "        images_correct += 1\n",
    "    accuracy = images_correct / images_guessed\n",
    "    \n",
    "    ff = open(\"../results/{}.txt\".format(f), \"w\")\n",
    "    ff.write(\"Number of Guesses: \"+str(images_guessed)+\"\\n\")\n",
    "    ff.write(\"Accuracy: \"+str(accuracy))\n",
    "    ff.close()\n",
    "    \n",
    "    img, cor_class = load_random_image()\n",
    "        \n",
    "        \n",
    "    plt.clf()\n",
    "    plt.imshow(img)\n",
    "    plt.axis('off')\n",
    "    ax.plot()\n",
    "    with out:\n",
    "        clear_output(wait=True)\n",
    "        display(ax.figure)\n",
    "        print(images_guessed)\n",
    "\n",
    "def load_buttons():\n",
    "    return HBox([notBFbutton, BFbutton])\n",
    "\n",
    "def load():\n",
    "    load_random_image()\n",
    "    return load_buttons()\n",
    "\n",
    "\n",
    "notBFbutton.on_click(on_button_clicked)\n",
    "BFbutton.on_click(on_button_clicked)"
   ]
  },
  {
   "cell_type": "code",
   "execution_count": 15,
   "metadata": {},
   "outputs": [
    {
     "data": {
      "application/vnd.jupyter.widget-view+json": {
       "model_id": "e0a61e5b24a6400fb937e59bab78c994",
       "version_major": 2,
       "version_minor": 0
      },
      "text/plain": [
       "VBox(children=(Output(), Button(description='Next', style=ButtonStyle())))"
      ]
     },
     "metadata": {},
     "output_type": "display_data"
    },
    {
     "data": {
      "application/vnd.jupyter.widget-view+json": {
       "model_id": "a82c13f24f2a42b496394d16a7fffd8a",
       "version_major": 2,
       "version_minor": 0
      },
      "text/plain": [
       "HBox(children=(Button(description='Not Bike Friendly', style=ButtonStyle()), Button(description='Bike Friendly…"
      ]
     },
     "metadata": {},
     "output_type": "display_data"
    }
   ],
   "source": [
    "%matplotlib inline\n",
    "\n",
    "# To prevent automatic figure display when execution of the cell ends\n",
    "%config InlineBackend.close_figures=False \n",
    "\n",
    "import matplotlib.pyplot as plt\n",
    "import numpy as np\n",
    "\n",
    "# from IPython.html import widgets\n",
    "from IPython.display import display,clear_output\n",
    "\n",
    "\n",
    "global accuracy\n",
    "global images_guessed\n",
    "global images_correct\n",
    "global f\n",
    "\n",
    "f = 0 \n",
    "while os.path.exists(\"../results/%s.txt\" % f):\n",
    "    f += 1\n",
    "\n",
    "\n",
    "\n",
    "plt.ioff()\n",
    "plt.figure(figsize=(6, 6))\n",
    "\n",
    "ax=plt.gca()\n",
    "\n",
    "out=widgets.Output()\n",
    "button=widgets.Button(description='Next')\n",
    "vbox=widgets.VBox(children=(out,button))\n",
    "display(vbox)\n",
    "\n",
    "target = []\n",
    "selected = []\n",
    "\n",
    "img, cor_class = load_random_image()\n",
    "images_guessed = 0\n",
    "images_correct = 0\n",
    "accuracy = 0.0\n",
    "# target.append(cor_class)\n",
    "\n",
    "plt.clf()\n",
    "plt.imshow(img)\n",
    "plt.axis('off')\n",
    "ax.plot()\n",
    "\n",
    "with out:\n",
    "    clear_output(wait=True)\n",
    "    display(ax.figure)\n",
    "\n",
    "button.close()\n",
    "load_buttons()"
   ]
  },
  {
   "cell_type": "markdown",
   "metadata": {},
   "source": [
    "## See your results (when you are done)!"
   ]
  },
  {
   "cell_type": "code",
   "execution_count": null,
   "metadata": {},
   "outputs": [],
   "source": [
    "\"\"\" <----- To run the cell click the arrow or click on select the cell OR hit 'Ctrl' + 'Enter' \"\"\"\n",
    "\n",
    "print(\"Total images guessed\", images_guessed)\n",
    "print(\"accuracy:\", accuracy)\n"
   ]
  },
  {
   "cell_type": "code",
   "execution_count": null,
   "metadata": {},
   "outputs": [],
   "source": []
  }
 ],
 "metadata": {
  "kernelspec": {
   "display_name": "Python 3",
   "language": "python",
   "name": "python3"
  },
  "language_info": {
   "codemirror_mode": {
    "name": "ipython",
    "version": 3
   },
   "file_extension": ".py",
   "mimetype": "text/x-python",
   "name": "python",
   "nbconvert_exporter": "python",
   "pygments_lexer": "ipython3",
   "version": "3.7.0"
  }
 },
 "nbformat": 4,
 "nbformat_minor": 2
}
